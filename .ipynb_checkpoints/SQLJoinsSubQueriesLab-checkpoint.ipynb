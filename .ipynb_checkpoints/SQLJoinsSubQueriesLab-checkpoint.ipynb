{
  "cells": [
    {
      "cell_type": "markdown",
      "metadata": {
        "id": "VeLyr3QqBquN"
      },
      "source": [
        "## Introduction\n",
        "\n",
        "In this lab assessment, you'll practice your knowledge of JOIN statements and subqueries, using various types of joins and various methods for specifying the links between them. One of the main benefits of using a relational database is the table relations that define them which allow you to access and connect data together via shared columns. By writing more advanced SQL queries that utilize joins and subqueries you can provide a deeper and more granular level of analysis and data retrieval.\n",
        "\n",
        "This assessment will continue looking at the familiar Northwind database that contains customer relationship management (CRM) data as well as employee and product data. You will take a deeper dive into this database in order to accomplish more advanced SQL queries that require you to access data from multiple tables at once. \n",
        "\n",
        "Imagine that you are working in an analyst role for the sales rep team. They have collaborated with the customer relations and the product teams to take a comprehensive look at the employee to customer pipeline in an attempt to find areas of improvement and potential growth. You have been asked to provide some specific data and statistics regarding this project."
      ]
    },
    {
      "cell_type": "markdown",
      "metadata": {
        "id": "8jkbDVuOB5AH"
      },
      "source": [
        "## Learning Objectives\n",
        "\n",
        "You will be able to:\n",
        "\n",
        "* Write SQL queries that make use of various types of joins\n",
        "* Choose and perform whichever type of join is best for retrieving desired data\n",
        "* Write subqueries to decompose complex queries"
      ]
    },
    {
      "cell_type": "markdown",
      "metadata": {
        "id": "c0hBOncDCN6Y"
      },
      "source": [
        "## Database\n",
        "\n",
        "The database will be the customer relationship management (CRM) database, which has the following ERD.\n",
        "\n",
        "![Database-Schema.png](ERD.png)\n",
        "\n",
        "### Connect to the database\n",
        "\n",
        "In the cell below we have provided the code to import both pandas and sqlite3 as well as define and create the connection to the database you will use. Also displayed is the schema and table names from the database. Use this information in conjunction with the ERD image above to assist in creating your SQL Queries.\n",
        "\n",
        "Major Hint: Look for the shared columns across tables you need to 'join' together."
      ]
    },
    {
      "cell_type": "code",
      "execution_count": null,
      "metadata": {
        "colab": {
          "base_uri": "https://localhost:8080/",
          "height": 771
        },
        "id": "oWsp6tECDSTB",
        "outputId": "9193fd49-c951-4056-8c0e-b4f9867fbc81"
      },
      "outputs": [],
      "source": [
        "# CodeGrade step0\n",
        "# Run this cell without changes\n",
        "\n",
        "# SQL Library and Pandas Library\n",
        "import sqlite3\n",
        "import pandas as pd\n",
        "\n",
        "# Connect to the database\n",
        "conn = sqlite3.connect('data.sqlite')\n",
        "\n",
        "pd.read_sql(\"\"\"SELECT * FROM sqlite_master\"\"\", conn)"
      ]
    },
    {
      "cell_type": "markdown",
      "metadata": {},
      "source": [
        "## Part 1: Join and Filter"
      ]
    },
    {
      "cell_type": "markdown",
      "metadata": {
        "id": "RgXBvTg5Dj4g"
      },
      "source": [
        "### Step 1\n",
        "\n",
        "The company would like to let Boston employees go remote but need to know more information about who is working in that office. Return the first and last names and the job titles for all employees in Boston."
      ]
    },
    {
      "cell_type": "code",
      "execution_count": null,
      "metadata": {},
      "outputs": [],
      "source": [
        "# CodeGrade step1\n",
        "# Replace None with your code\n",
        "df_boston = None"
      ]
    },
    {
      "cell_type": "markdown",
      "metadata": {
        "id": "HFg4zZz3DwsT"
      },
      "source": [
        "### Step 2\n",
        "\n",
        "Recent downsizing and employee attrition have caused some mixups in office tracking and the company is worried they are supporting a 'ghost' location. Are there any offices that have zero employees?"
      ]
    },
    {
      "cell_type": "code",
      "execution_count": null,
      "metadata": {},
      "outputs": [],
      "source": [
        "# CodeGrade step2\n",
        "# Replace None with your code\n",
        "df_zero_emp = None"
      ]
    },
    {
      "cell_type": "markdown",
      "metadata": {},
      "source": [
        "## Part 2: Type of Join"
      ]
    },
    {
      "cell_type": "markdown",
      "metadata": {
        "id": "WjQpZqZ4ERx7"
      },
      "source": [
        "### Step 3\n",
        "\n",
        "As a part of this larger analysis project the HR department is taking the time to audit employee records to make sure nothing is out of place and have asked you to produce a report of all employees. Return the employees first name and last name along with the city and state of the office that they work out of (if they have one). Include all employees and order them by their first name, then their last name."
      ]
    },
    {
      "cell_type": "code",
      "execution_count": null,
      "metadata": {},
      "outputs": [],
      "source": [
        "# CodeGrade step3\n",
        "# Replace None with your code\n",
        "df_employee = None"
      ]
    },
    {
      "cell_type": "markdown",
      "metadata": {
        "id": "VwT9eePzEl8I"
      },
      "source": [
        "### Step 4\n",
        "The customer management and sales rep team know that they have several 'customers' in the system that have not placed any orders. They want to reach out to these customers with updated product catalogs to try and get them to place initial orders. Return all of the customer's contact information (first name, last name, and phone number) as well as their sales rep's employee number for any customer that has not placed an order. Sort the results alphabetically based on the contact's last name\n",
        "\n",
        "There are several approaches you could take here, including a left join and filtering on null values or using a subquery to filter out customers who do have orders. In total there are 24 customers who have not placed an order."
      ]
    },
    {
      "cell_type": "code",
      "execution_count": null,
      "metadata": {},
      "outputs": [],
      "source": [
        "# CodeGrade step4\n",
        "# Replace None with your code\n",
        "df_contacts = None"
      ]
    },
    {
      "cell_type": "markdown",
      "metadata": {},
      "source": [
        "## Part 3: Built-in Function"
      ]
    },
    {
      "cell_type": "markdown",
      "metadata": {
        "id": "YSiD-VGsE3tt"
      },
      "source": [
        "### Step 5\n",
        "\n",
        "The accounting team is auditing their figures and wants to make sure all customer payments are in alignment, they have asked you to produce a report of all the customer contacts (first and last names) along with details for each of the customers' payment amounts and date of payment. They have asked that these results be sorted in descending order by the payment amount.\n",
        "\n",
        "Hint: A member of their team mentioned that they are not sure the 'amount' column is being stored as the right datatype so keep this in mind when sorting."
      ]
    },
    {
      "cell_type": "code",
      "execution_count": null,
      "metadata": {},
      "outputs": [],
      "source": [
        "# CodeGrade step5\n",
        "# Replace None with your code\n",
        "df_payment = None"
      ]
    },
    {
      "cell_type": "markdown",
      "metadata": {},
      "source": [
        "## Part 4: Joining and Grouping"
      ]
    },
    {
      "cell_type": "markdown",
      "metadata": {},
      "source": [
        "### Step 6\n",
        "\n",
        "The sales rep team has noticed several key team members that stand out as having trustworthy business relations with their customers, reflected by high credit limits indicating more potential for orders. The team wants you to identify these 4 individuals. Return the employee number, first name, last name, and number of customers for employees whose customers have an average credit limit over 90k. Sort by number of customers from high to low."
      ]
    },
    {
      "cell_type": "code",
      "execution_count": null,
      "metadata": {},
      "outputs": [],
      "source": [
        "# CodeGrade step6\n",
        "# Replace None with your code\n",
        "df_credit = None"
      ]
    },
    {
      "cell_type": "markdown",
      "metadata": {
        "id": "oBc9ymJOFB7k"
      },
      "source": [
        "### Step 7\n",
        "\n",
        "The product team is looking to create new model kits and wants to know which current products are selling the most in order to get an idea of what is popular. Return the product name and count the number of orders for each product as a column named 'numorders'. Also return a new column, 'totalunits', that sums up the total quantity of product sold (use the quantityOrdered column). Sort the results by the totalunits column, highest to lowest, to showcase the top selling products."
      ]
    },
    {
      "cell_type": "code",
      "execution_count": null,
      "metadata": {},
      "outputs": [],
      "source": [
        "# CodeGrade step7\n",
        "# Replace None with your code\n",
        "df_product_sold = None"
      ]
    },
    {
      "cell_type": "markdown",
      "metadata": {},
      "source": [
        "## Part 5: Multiple Joins"
      ]
    },
    {
      "cell_type": "markdown",
      "metadata": {
        "id": "rC9zNmRgFeIu"
      },
      "source": [
        "### Step 8\n",
        "\n",
        "As a follow-up to the above question, the product team also wants to know how many different customers ordered each product to get an idea of market reach. Return the product name, code, and the total number of customers who have ordered each product, aliased as 'numpurchasers'. Sort the results by the highest  number of purchasers.\n",
        "\n",
        "Hint: You might need to join more than 2 tables. Use DISTINCT to return unique/different values."
      ]
    },
    {
      "cell_type": "code",
      "execution_count": null,
      "metadata": {},
      "outputs": [],
      "source": [
        "# CodeGrade step8\n",
        "# Replace None with your code\n",
        "df_total_customers = None"
      ]
    },
    {
      "cell_type": "markdown",
      "metadata": {},
      "source": [
        "### Step 9\n",
        "\n",
        "The custom relations team is worried they are not staffing locations properly to account for customer volume. They want to know how many customers there are per office. Return the count as a column named 'n_customers'. Also return the office code and city."
      ]
    },
    {
      "cell_type": "code",
      "execution_count": null,
      "metadata": {},
      "outputs": [],
      "source": [
        "# CodeGrade step9\n",
        "# Replace None with your code\n",
        "df_customers = None"
      ]
    },
    {
      "cell_type": "markdown",
      "metadata": {},
      "source": [
        "## Part 6: Subquery"
      ]
    },
    {
      "cell_type": "markdown",
      "metadata": {
        "id": "If3Bste-Fulo"
      },
      "source": [
        "### Step 10\n",
        "\n",
        "Having looked at the results from above, the product team is curious to dig into the underperforming products. They want to ask members of the team who have sold these products about what kind of messaging was successful in getting a customer to buy these specific products. Using a subquery or common table expression (CTE), select the employee number, first name, last name, city of the office, and the office code for employees who sold products that have been ordered by fewer than 20 customers.\n",
        "\n",
        "Hint: Start with the subquery, find all the products that have been ordered by 19 or less customers, consider adapting one of your previous queries."
      ]
    },
    {
      "cell_type": "code",
      "execution_count": null,
      "metadata": {},
      "outputs": [],
      "source": [
        "# CodeGrade step10\n",
        "# Replace None with your code\n",
        "df_under_20 = None"
      ]
    },
    {
      "cell_type": "markdown",
      "metadata": {
        "id": "b0YHiqxXGa-5"
      },
      "source": [
        "### Close the connection"
      ]
    },
    {
      "cell_type": "code",
      "execution_count": null,
      "metadata": {
        "id": "oEcx2cZ2Gc21"
      },
      "outputs": [],
      "source": [
        "# Run this cell without changes\n",
        "\n",
        "conn.close()"
      ]
    }
  ],
  "metadata": {
    "colab": {
      "provenance": []
    },
    "kernelspec": {
      "display_name": "Python 3",
      "name": "python3"
    },
    "language_info": {
      "codemirror_mode": {
        "name": "ipython",
        "version": 3
      },
      "file_extension": ".py",
      "mimetype": "text/x-python",
      "name": "python",
      "nbconvert_exporter": "python",
      "pygments_lexer": "ipython3",
      "version": "3.12.4"
    }
  },
  "nbformat": 4,
  "nbformat_minor": 0
}
