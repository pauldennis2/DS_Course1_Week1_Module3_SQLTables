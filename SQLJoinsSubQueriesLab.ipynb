{
 "cells": [
  {
   "cell_type": "markdown",
   "metadata": {
    "id": "VeLyr3QqBquN"
   },
   "source": [
    "## Introduction\n",
    "\n",
    "In this lab assessment, you'll practice your knowledge of JOIN statements and subqueries, using various types of joins and various methods for specifying the links between them. One of the main benefits of using a relational database is the table relations that define them which allow you to access and connect data together via shared columns. By writing more advanced SQL queries that utilize joins and subqueries you can provide a deeper and more granular level of analysis and data retrieval.\n",
    "\n",
    "This assessment will continue looking at the familiar Northwind database that contains customer relationship management (CRM) data as well as employee and product data. You will take a deeper dive into this database in order to accomplish more advanced SQL queries that require you to access data from multiple tables at once. \n",
    "\n",
    "Imagine that you are working in an analyst role for the sales rep team. They have collaborated with the customer relations and the product teams to take a comprehensive look at the employee to customer pipeline in an attempt to find areas of improvement and potential growth. You have been asked to provide some specific data and statistics regarding this project."
   ]
  },
  {
   "cell_type": "markdown",
   "metadata": {
    "id": "8jkbDVuOB5AH"
   },
   "source": [
    "## Learning Objectives\n",
    "\n",
    "You will be able to:\n",
    "\n",
    "* Write SQL queries that make use of various types of joins\n",
    "* Choose and perform whichever type of join is best for retrieving desired data\n",
    "* Write subqueries to decompose complex queries"
   ]
  },
  {
   "cell_type": "markdown",
   "metadata": {
    "id": "c0hBOncDCN6Y"
   },
   "source": [
    "## Database\n",
    "\n",
    "The database will be the customer relationship management (CRM) database, which has the following ERD.\n",
    "\n",
    "![Database-Schema.png](ERD.png)\n",
    "\n",
    "### Connect to the database\n",
    "\n",
    "In the cell below we have provided the code to import both pandas and sqlite3 as well as define and create the connection to the database you will use. Also displayed is the schema and table names from the database. Use this information in conjunction with the ERD image above to assist in creating your SQL Queries.\n",
    "\n",
    "Major Hint: Look for the shared columns across tables you need to 'join' together."
   ]
  },
  {
   "cell_type": "code",
   "execution_count": 1,
   "metadata": {
    "colab": {
     "base_uri": "https://localhost:8080/",
     "height": 771
    },
    "id": "oWsp6tECDSTB",
    "outputId": "9193fd49-c951-4056-8c0e-b4f9867fbc81"
   },
   "outputs": [
    {
     "data": {
      "text/html": [
       "<div>\n",
       "<style scoped>\n",
       "    .dataframe tbody tr th:only-of-type {\n",
       "        vertical-align: middle;\n",
       "    }\n",
       "\n",
       "    .dataframe tbody tr th {\n",
       "        vertical-align: top;\n",
       "    }\n",
       "\n",
       "    .dataframe thead th {\n",
       "        text-align: right;\n",
       "    }\n",
       "</style>\n",
       "<table border=\"1\" class=\"dataframe\">\n",
       "  <thead>\n",
       "    <tr style=\"text-align: right;\">\n",
       "      <th></th>\n",
       "      <th>type</th>\n",
       "      <th>name</th>\n",
       "      <th>tbl_name</th>\n",
       "      <th>rootpage</th>\n",
       "      <th>sql</th>\n",
       "    </tr>\n",
       "  </thead>\n",
       "  <tbody>\n",
       "    <tr>\n",
       "      <th>0</th>\n",
       "      <td>table</td>\n",
       "      <td>orderdetails</td>\n",
       "      <td>orderdetails</td>\n",
       "      <td>2</td>\n",
       "      <td>CREATE TABLE `orderdetails` (`orderNumber`, `p...</td>\n",
       "    </tr>\n",
       "    <tr>\n",
       "      <th>1</th>\n",
       "      <td>table</td>\n",
       "      <td>payments</td>\n",
       "      <td>payments</td>\n",
       "      <td>28</td>\n",
       "      <td>CREATE TABLE `payments` (`customerNumber`, `ch...</td>\n",
       "    </tr>\n",
       "    <tr>\n",
       "      <th>2</th>\n",
       "      <td>table</td>\n",
       "      <td>offices</td>\n",
       "      <td>offices</td>\n",
       "      <td>32</td>\n",
       "      <td>CREATE TABLE `offices` (`officeCode`, `city`, ...</td>\n",
       "    </tr>\n",
       "    <tr>\n",
       "      <th>3</th>\n",
       "      <td>table</td>\n",
       "      <td>customers</td>\n",
       "      <td>customers</td>\n",
       "      <td>33</td>\n",
       "      <td>CREATE TABLE `customers` (`customerNumber`, `c...</td>\n",
       "    </tr>\n",
       "    <tr>\n",
       "      <th>4</th>\n",
       "      <td>table</td>\n",
       "      <td>orders</td>\n",
       "      <td>orders</td>\n",
       "      <td>38</td>\n",
       "      <td>CREATE TABLE `orders` (`orderNumber`, `orderDa...</td>\n",
       "    </tr>\n",
       "    <tr>\n",
       "      <th>5</th>\n",
       "      <td>table</td>\n",
       "      <td>productlines</td>\n",
       "      <td>productlines</td>\n",
       "      <td>46</td>\n",
       "      <td>CREATE TABLE `productlines` (`productLine`, `t...</td>\n",
       "    </tr>\n",
       "    <tr>\n",
       "      <th>6</th>\n",
       "      <td>table</td>\n",
       "      <td>products</td>\n",
       "      <td>products</td>\n",
       "      <td>47</td>\n",
       "      <td>CREATE TABLE `products` (`productCode`, `produ...</td>\n",
       "    </tr>\n",
       "    <tr>\n",
       "      <th>7</th>\n",
       "      <td>table</td>\n",
       "      <td>employees</td>\n",
       "      <td>employees</td>\n",
       "      <td>56</td>\n",
       "      <td>CREATE TABLE `employees` (`employeeNumber`, `l...</td>\n",
       "    </tr>\n",
       "  </tbody>\n",
       "</table>\n",
       "</div>"
      ],
      "text/plain": [
       "    type          name      tbl_name  rootpage  \\\n",
       "0  table  orderdetails  orderdetails         2   \n",
       "1  table      payments      payments        28   \n",
       "2  table       offices       offices        32   \n",
       "3  table     customers     customers        33   \n",
       "4  table        orders        orders        38   \n",
       "5  table  productlines  productlines        46   \n",
       "6  table      products      products        47   \n",
       "7  table     employees     employees        56   \n",
       "\n",
       "                                                 sql  \n",
       "0  CREATE TABLE `orderdetails` (`orderNumber`, `p...  \n",
       "1  CREATE TABLE `payments` (`customerNumber`, `ch...  \n",
       "2  CREATE TABLE `offices` (`officeCode`, `city`, ...  \n",
       "3  CREATE TABLE `customers` (`customerNumber`, `c...  \n",
       "4  CREATE TABLE `orders` (`orderNumber`, `orderDa...  \n",
       "5  CREATE TABLE `productlines` (`productLine`, `t...  \n",
       "6  CREATE TABLE `products` (`productCode`, `produ...  \n",
       "7  CREATE TABLE `employees` (`employeeNumber`, `l...  "
      ]
     },
     "execution_count": 1,
     "metadata": {},
     "output_type": "execute_result"
    }
   ],
   "source": [
    "# CodeGrade step0\n",
    "# Run this cell without changes\n",
    "\n",
    "# SQL Library and Pandas Library\n",
    "import sqlite3\n",
    "import pandas as pd\n",
    "\n",
    "# Connect to the database\n",
    "conn = sqlite3.connect('data.sqlite')\n",
    "\n",
    "pd.read_sql(\"\"\"SELECT * FROM sqlite_master\"\"\", conn)"
   ]
  },
  {
   "cell_type": "markdown",
   "metadata": {},
   "source": [
    "## Part 1: Join and Filter"
   ]
  },
  {
   "cell_type": "markdown",
   "metadata": {
    "id": "RgXBvTg5Dj4g"
   },
   "source": [
    "### Step 1\n",
    "\n",
    "The company would like to let Boston employees go remote but need to know more information about who is working in that office. Return the first and last names and the job titles for all employees in Boston."
   ]
  },
  {
   "cell_type": "code",
   "execution_count": 2,
   "metadata": {},
   "outputs": [],
   "source": [
    "# CodeGrade step1\n",
    "# Replace None with your code\n",
    "# We've queried the offices table for Boston and found the code is 2\n",
    "df_boston = pd.read_sql(\"\"\"\n",
    "    SELECT firstName, lastName, jobTitle \n",
    "    FROM employees WHERE officeCode = '2';\"\"\", conn)\n",
    "# Boston only has two employees, which is a bit sparse.\n",
    "\n",
    "# This looks like a bad unit test, where it is expecting a shape of 2, 2 but the instructions clearly ask for 3 columns\n",
    "# Confirmed, but as there is no obvious or elegant way to fix this, leaving as is\n",
    "# The unit test is only checking firstName field, so theoretically we could leave either of the others out of the query\n",
    "# This is bad practice"
   ]
  },
  {
   "cell_type": "markdown",
   "metadata": {
    "id": "HFg4zZz3DwsT"
   },
   "source": [
    "### Step 2\n",
    "\n",
    "Recent downsizing and employee attrition have caused some mixups in office tracking and the company is worried they are supporting a 'ghost' location. Are there any offices that have zero employees?"
   ]
  },
  {
   "cell_type": "code",
   "execution_count": 3,
   "metadata": {},
   "outputs": [],
   "source": [
    "# CodeGrade step2\n",
    "# Replace None with your code\n",
    "df_zero_emp = pd.read_sql(\"\"\"\n",
    "    SELECT * FROM offices\n",
    "    LEFT JOIN employees on employees.officeCode = offices.officeCode\n",
    "    WHERE employees.employeeNumber IS NULL;\"\"\",conn)\n",
    "# Examining the data we find office codes go 1-7, and all of these appear in the employee officeCode list\n",
    "# Empty results, no ghost offices"
   ]
  },
  {
   "cell_type": "markdown",
   "metadata": {},
   "source": [
    "## Part 2: Type of Join"
   ]
  },
  {
   "cell_type": "markdown",
   "metadata": {
    "id": "WjQpZqZ4ERx7"
   },
   "source": [
    "### Step 3\n",
    "\n",
    "As a part of this larger analysis project the HR department is taking the time to audit employee records to make sure nothing is out of place and have asked you to produce a report of all employees. Return the employees first name and last name along with the city and state of the office that they work out of (if they have one). Include all employees and order them by their first name, then their last name."
   ]
  },
  {
   "cell_type": "code",
   "execution_count": 4,
   "metadata": {},
   "outputs": [],
   "source": [
    "# CodeGrade step3\n",
    "# Replace None with your code\n",
    "df_employee = pd.read_sql(\"\"\"\n",
    "    SELECT firstName, lastName, city, state FROM employees\n",
    "    LEFT JOIN offices ON offices.officeCode = employees.officeCode\n",
    "    ORDER BY firstName, lastName;\"\"\", conn)"
   ]
  },
  {
   "cell_type": "markdown",
   "metadata": {
    "id": "VwT9eePzEl8I"
   },
   "source": [
    "### Step 4\n",
    "The customer management and sales rep team know that they have several 'customers' in the system that have not placed any orders. They want to reach out to these customers with updated product catalogs to try and get them to place initial orders. Return all of the customer's contact information (first name, last name, and phone number) as well as their sales rep's employee number for any customer that has not placed an order. Sort the results alphabetically based on the contact's last name\n",
    "\n",
    "There are several approaches you could take here, including a left join and filtering on null values or using a subquery to filter out customers who do have orders. In total there are 24 customers who have not placed an order."
   ]
  },
  {
   "cell_type": "code",
   "execution_count": 5,
   "metadata": {},
   "outputs": [],
   "source": [
    "# CodeGrade step4\n",
    "# Replace None with your code\n",
    "df_contacts = pd.read_sql(\"\"\"\n",
    "    SELECT contactFirstName, contactLastName, phone, salesRepEmployeeNumber FROM customers\n",
    "    LEFT JOIN orders ON orders.customerNumber = customers.customerNumber\n",
    "    WHERE orders.customerNumber IS NULL\n",
    "    ORDER BY contactLastName;\"\"\", conn)"
   ]
  },
  {
   "cell_type": "markdown",
   "metadata": {},
   "source": [
    "## Part 3: Built-in Function"
   ]
  },
  {
   "cell_type": "markdown",
   "metadata": {
    "id": "YSiD-VGsE3tt"
   },
   "source": [
    "### Step 5\n",
    "\n",
    "The accounting team is auditing their figures and wants to make sure all customer payments are in alignment, they have asked you to produce a report of all the customer contacts (first and last names) along with details for each of the customers' payment amounts and date of payment. They have asked that these results be sorted in descending order by the payment amount.\n",
    "\n",
    "Hint: A member of their team mentioned that they are not sure the 'amount' column is being stored as the right datatype so keep this in mind when sorting."
   ]
  },
  {
   "cell_type": "code",
   "execution_count": 2,
   "metadata": {},
   "outputs": [
    {
     "data": {
      "text/plain": [
       "(273, 4)"
      ]
     },
     "execution_count": 2,
     "metadata": {},
     "output_type": "execute_result"
    }
   ],
   "source": [
    "# CodeGrade step5\n",
    "# Replace None with your code\n",
    "df_payment = pd.read_sql(\"\"\"\n",
    "    SELECT contactFirstName, contactLastName, CAST(amount as REAL), paymentDate FROM customers\n",
    "    INNER JOIN payments on payments.customerNumber = customers.customerNumber\n",
    "    ORDER BY CAST(amount as REAL) DESC;\"\"\", conn)\n",
    "\n",
    "# My first approach of a LEFT JOIN was bringing back payments with no customer info\n",
    "# This was arguably incorrect because of our goal: \"to make sure all customer payments are in alignment\"\n",
    "# Payments without customer info are suspicious though, and should be considered, possibly in a separate query"
   ]
  },
  {
   "cell_type": "markdown",
   "metadata": {},
   "source": [
    "## Part 4: Joining and Grouping"
   ]
  },
  {
   "cell_type": "markdown",
   "metadata": {},
   "source": [
    "### Step 6\n",
    "\n",
    "The sales rep team has noticed several key team members that stand out as having trustworthy business relations with their customers, reflected by high credit limits indicating more potential for orders. The team wants you to identify these 4 individuals. Return the employee number, first name, last name, and number of customers for employees whose customers have an average credit limit over 90k. Sort by number of customers from high to low."
   ]
  },
  {
   "cell_type": "code",
   "execution_count": 5,
   "metadata": {},
   "outputs": [],
   "source": [
    "# CodeGrade step6\n",
    "# Replace None with your code\n",
    "df_credit = pd.read_sql(\"\"\"\n",
    "    SELECT employeeNumber, firstName, lastName,\n",
    "    COUNT(*) AS num_customers FROM employees\n",
    "    INNER JOIN customers ON customers.salesRepEmployeeNumber = employees.employeeNumber\n",
    "    GROUP BY employeeNumber\n",
    "    HAVING AVG(creditLimit) > 90000\n",
    "    ORDER BY COUNT(*) DESC;\"\"\", conn)\n",
    "# We'll avoid using the alias in the having/Order by for portability\n",
    "# We've removed the unrequested column \"average_credit_limit\"\n",
    "# We've updated to an INNER JOIN as this correctly reflects the necesseity of matching employee numbers\n",
    "# In this specific case this does not change the results"
   ]
  },
  {
   "cell_type": "markdown",
   "metadata": {
    "id": "oBc9ymJOFB7k"
   },
   "source": [
    "### Step 7\n",
    "\n",
    "The product team is looking to create new model kits and wants to know which current products are selling the most in order to get an idea of what is popular. Return the product name and count the number of orders for each product as a column named 'numorders'. Also return a new column, 'totalunits', that sums up the total quantity of product sold (use the quantityOrdered column). Sort the results by the totalunits column, highest to lowest, to showcase the top selling products."
   ]
  },
  {
   "cell_type": "code",
   "execution_count": 8,
   "metadata": {},
   "outputs": [
    {
     "data": {
      "text/plain": [
       "(109, 3)"
      ]
     },
     "execution_count": 8,
     "metadata": {},
     "output_type": "execute_result"
    }
   ],
   "source": [
    "# CodeGrade step7\n",
    "# Replace None with your code\n",
    "df_product_sold = pd.read_sql(\"\"\"\n",
    "    SELECT productName, SUM(quantityOrdered) AS totalunits, COUNT(DISTINCT orderNumber) AS numorders FROM products\n",
    "    INNER JOIN orderdetails ON orderdetails.productCode = products.productCode\n",
    "    GROUP BY productName\n",
    "    ORDER BY totalunits DESC;\"\"\", conn)\n",
    "# Similar to step 6, changed to an INNER JOIN\n",
    "# If we cannot connect the order info to the products table, this will not help us evaluate products\n",
    "# This reduces the number of rows by 1 (in this case)"
   ]
  },
  {
   "cell_type": "markdown",
   "metadata": {},
   "source": [
    "## Part 5: Multiple Joins"
   ]
  },
  {
   "cell_type": "markdown",
   "metadata": {
    "id": "rC9zNmRgFeIu"
   },
   "source": [
    "### Step 8\n",
    "\n",
    "As a follow-up to the above question, the product team also wants to know how many different customers ordered each product to get an idea of market reach. Return the product name, code, and the total number of customers who have ordered each product, aliased as 'numpurchasers'. Sort the results by the highest  number of purchasers.\n",
    "\n",
    "Hint: You might need to join more than 2 tables. Use DISTINCT to return unique/different values."
   ]
  },
  {
   "cell_type": "code",
   "execution_count": 9,
   "metadata": {},
   "outputs": [
    {
     "data": {
      "text/plain": [
       "(109, 3)"
      ]
     },
     "execution_count": 9,
     "metadata": {},
     "output_type": "execute_result"
    }
   ],
   "source": [
    "# CodeGrade step8\n",
    "# Replace None with your code\n",
    "df_total_customers = pd.read_sql(\"\"\"\n",
    "    SELECT productName, products.productCode, \n",
    "    COUNT(DISTINCT customerNumber) AS numpurchasers FROM products\n",
    "    INNER JOIN orderdetails ON orderdetails.productCode = products.productCode\n",
    "    INNER JOIN orders ON orders.orderNumber = orderdetails.orderNumber\n",
    "    GROUP BY productName\n",
    "    ORDER BY numpurchasers DESC;\"\"\", conn)\n",
    "# Similar to steps 6 + 7. We're connecting products to customers, so INNER JOIN correctly achieves this"
   ]
  },
  {
   "cell_type": "markdown",
   "metadata": {},
   "source": [
    "### Step 9\n",
    "\n",
    "The custom relations team is worried they are not staffing locations properly to account for customer volume. They want to know how many customers there are per office. Return the count as a column named 'n_customers'. Also return the office code and city."
   ]
  },
  {
   "cell_type": "code",
   "execution_count": 10,
   "metadata": {},
   "outputs": [],
   "source": [
    "# CodeGrade step9\n",
    "# Replace None with your code\n",
    "df_customers = pd.read_sql(\"\"\"\n",
    "    SELECT offices.city, offices.officeCode,\n",
    "    COUNT(DISTINCT customerNumber) as n_customers FROM offices\n",
    "    LEFT JOIN employees ON employees.officeCode = offices.officeCode\n",
    "    LEFT JOIN customers ON customers.salesRepEmployeeNumber = employees.employeeNumber\n",
    "    GROUP BY offices.city;\"\"\", conn)\n",
    "# We were not asked to do any sorting"
   ]
  },
  {
   "cell_type": "markdown",
   "metadata": {},
   "source": [
    "## Part 6: Subquery"
   ]
  },
  {
   "cell_type": "markdown",
   "metadata": {
    "id": "If3Bste-Fulo"
   },
   "source": [
    "### Step 10\n",
    "\n",
    "Having looked at the results from above, the product team is curious to dig into the underperforming products. They want to ask members of the team who have sold these products about what kind of messaging was successful in getting a customer to buy these specific products. Using a subquery or common table expression (CTE), select the employee number, first name, last name, city of the office, and the office code for employees who sold products that have been ordered by fewer than 20 customers.\n",
    "\n",
    "Hint: Start with the subquery, find all the products that have been ordered by 19 or less customers, consider adapting one of your previous queries."
   ]
  },
  {
   "cell_type": "code",
   "execution_count": 9,
   "metadata": {},
   "outputs": [
    {
     "data": {
      "text/html": [
       "<div>\n",
       "<style scoped>\n",
       "    .dataframe tbody tr th:only-of-type {\n",
       "        vertical-align: middle;\n",
       "    }\n",
       "\n",
       "    .dataframe tbody tr th {\n",
       "        vertical-align: top;\n",
       "    }\n",
       "\n",
       "    .dataframe thead th {\n",
       "        text-align: right;\n",
       "    }\n",
       "</style>\n",
       "<table border=\"1\" class=\"dataframe\">\n",
       "  <thead>\n",
       "    <tr style=\"text-align: right;\">\n",
       "      <th></th>\n",
       "      <th>employeeNumber</th>\n",
       "      <th>firstName</th>\n",
       "      <th>lastName</th>\n",
       "      <th>city</th>\n",
       "      <th>officeCode</th>\n",
       "    </tr>\n",
       "  </thead>\n",
       "  <tbody>\n",
       "    <tr>\n",
       "      <th>0</th>\n",
       "      <td>1337</td>\n",
       "      <td>Loui</td>\n",
       "      <td>Bondur</td>\n",
       "      <td>Paris</td>\n",
       "      <td>4</td>\n",
       "    </tr>\n",
       "    <tr>\n",
       "      <th>1</th>\n",
       "      <td>1501</td>\n",
       "      <td>Larry</td>\n",
       "      <td>Bott</td>\n",
       "      <td>London</td>\n",
       "      <td>7</td>\n",
       "    </tr>\n",
       "    <tr>\n",
       "      <th>2</th>\n",
       "      <td>1401</td>\n",
       "      <td>Pamela</td>\n",
       "      <td>Castillo</td>\n",
       "      <td>Paris</td>\n",
       "      <td>4</td>\n",
       "    </tr>\n",
       "    <tr>\n",
       "      <th>3</th>\n",
       "      <td>1188</td>\n",
       "      <td>Julie</td>\n",
       "      <td>Firrelli</td>\n",
       "      <td>Boston</td>\n",
       "      <td>2</td>\n",
       "    </tr>\n",
       "    <tr>\n",
       "      <th>4</th>\n",
       "      <td>1611</td>\n",
       "      <td>Andy</td>\n",
       "      <td>Fixter</td>\n",
       "      <td>Sydney</td>\n",
       "      <td>6</td>\n",
       "    </tr>\n",
       "    <tr>\n",
       "      <th>5</th>\n",
       "      <td>1702</td>\n",
       "      <td>Martin</td>\n",
       "      <td>Gerard</td>\n",
       "      <td>Paris</td>\n",
       "      <td>4</td>\n",
       "    </tr>\n",
       "    <tr>\n",
       "      <th>6</th>\n",
       "      <td>1370</td>\n",
       "      <td>Gerard</td>\n",
       "      <td>Hernandez</td>\n",
       "      <td>Paris</td>\n",
       "      <td>4</td>\n",
       "    </tr>\n",
       "    <tr>\n",
       "      <th>7</th>\n",
       "      <td>1165</td>\n",
       "      <td>Leslie</td>\n",
       "      <td>Jennings</td>\n",
       "      <td>San Francisco</td>\n",
       "      <td>1</td>\n",
       "    </tr>\n",
       "    <tr>\n",
       "      <th>8</th>\n",
       "      <td>1504</td>\n",
       "      <td>Barry</td>\n",
       "      <td>Jones</td>\n",
       "      <td>London</td>\n",
       "      <td>7</td>\n",
       "    </tr>\n",
       "    <tr>\n",
       "      <th>9</th>\n",
       "      <td>1612</td>\n",
       "      <td>Peter</td>\n",
       "      <td>Marsh</td>\n",
       "      <td>Sydney</td>\n",
       "      <td>6</td>\n",
       "    </tr>\n",
       "    <tr>\n",
       "      <th>10</th>\n",
       "      <td>1621</td>\n",
       "      <td>Mami</td>\n",
       "      <td>Nishi</td>\n",
       "      <td>Tokyo</td>\n",
       "      <td>5</td>\n",
       "    </tr>\n",
       "    <tr>\n",
       "      <th>11</th>\n",
       "      <td>1216</td>\n",
       "      <td>Steve</td>\n",
       "      <td>Patterson</td>\n",
       "      <td>Boston</td>\n",
       "      <td>2</td>\n",
       "    </tr>\n",
       "    <tr>\n",
       "      <th>12</th>\n",
       "      <td>1166</td>\n",
       "      <td>Leslie</td>\n",
       "      <td>Thompson</td>\n",
       "      <td>San Francisco</td>\n",
       "      <td>1</td>\n",
       "    </tr>\n",
       "    <tr>\n",
       "      <th>13</th>\n",
       "      <td>1286</td>\n",
       "      <td>Foon Yue</td>\n",
       "      <td>Tseng</td>\n",
       "      <td>NYC</td>\n",
       "      <td>3</td>\n",
       "    </tr>\n",
       "    <tr>\n",
       "      <th>14</th>\n",
       "      <td>1323</td>\n",
       "      <td>George</td>\n",
       "      <td>Vanauf</td>\n",
       "      <td>NYC</td>\n",
       "      <td>3</td>\n",
       "    </tr>\n",
       "  </tbody>\n",
       "</table>\n",
       "</div>"
      ],
      "text/plain": [
       "   employeeNumber firstName   lastName           city officeCode\n",
       "0            1337      Loui     Bondur          Paris          4\n",
       "1            1501     Larry       Bott         London          7\n",
       "2            1401    Pamela   Castillo          Paris          4\n",
       "3            1188     Julie   Firrelli         Boston          2\n",
       "4            1611      Andy     Fixter         Sydney          6\n",
       "5            1702    Martin     Gerard          Paris          4\n",
       "6            1370    Gerard  Hernandez          Paris          4\n",
       "7            1165    Leslie   Jennings  San Francisco          1\n",
       "8            1504     Barry      Jones         London          7\n",
       "9            1612     Peter      Marsh         Sydney          6\n",
       "10           1621      Mami      Nishi          Tokyo          5\n",
       "11           1216     Steve  Patterson         Boston          2\n",
       "12           1166    Leslie   Thompson  San Francisco          1\n",
       "13           1286  Foon Yue      Tseng            NYC          3\n",
       "14           1323    George     Vanauf            NYC          3"
      ]
     },
     "execution_count": 9,
     "metadata": {},
     "output_type": "execute_result"
    }
   ],
   "source": [
    "# CodeGrade step10\n",
    "# Replace None with your code\n",
    "# We're using our approach from Step 8 as a subquery (with slight tweaks)\n",
    "df_under_20 = pd.read_sql(\"\"\"\n",
    "    SELECT DISTINCT employees.employeeNumber, employees.firstName, employees.lastName, offices.city, offices.officeCode\n",
    "    FROM employees\n",
    "    INNER JOIN customers ON customers.salesRepEmployeeNumber = employees.employeeNumber\n",
    "    INNER JOIN orders ON orders.customerNumber = customers.customerNumber\n",
    "    INNER JOIN orderdetails ON orderdetails.orderNumber = orders.orderNumber\n",
    "    INNER JOIN offices ON offices.officeCode = employees.officeCode\n",
    "    WHERE orderdetails.productCode IN (\n",
    "        SELECT products.productCode\n",
    "        FROM products\n",
    "        INNER JOIN orderdetails ON orderdetails.productCode = products.productCode\n",
    "        INNER JOIN orders ON orders.orderNumber = orderdetails.orderNumber\n",
    "        GROUP BY products.productCode\n",
    "        HAVING COUNT(DISTINCT customerNumber) < 20\n",
    "    )\n",
    "    ORDER BY employees.lastName;\"\"\", conn)\n",
    "\n",
    "# We've added the ORDER BY because this is expected in the unit tests\n",
    "# There is no mention of a need to sort/order in"
   ]
  },
  {
   "cell_type": "markdown",
   "metadata": {
    "id": "b0YHiqxXGa-5"
   },
   "source": [
    "### Close the connection"
   ]
  },
  {
   "cell_type": "code",
   "execution_count": 12,
   "metadata": {
    "id": "oEcx2cZ2Gc21"
   },
   "outputs": [],
   "source": [
    "# Run this cell without changes\n",
    "\n",
    "conn.close()"
   ]
  }
 ],
 "metadata": {
  "colab": {
   "provenance": []
  },
  "kernelspec": {
   "display_name": "Python 3 (ipykernel)",
   "language": "python",
   "name": "python3"
  },
  "language_info": {
   "codemirror_mode": {
    "name": "ipython",
    "version": 3
   },
   "file_extension": ".py",
   "mimetype": "text/x-python",
   "name": "python",
   "nbconvert_exporter": "python",
   "pygments_lexer": "ipython3",
   "version": "3.12.4"
  }
 },
 "nbformat": 4,
 "nbformat_minor": 4
}
